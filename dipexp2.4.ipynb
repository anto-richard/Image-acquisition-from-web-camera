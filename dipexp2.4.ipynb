{
 "cells": [
  {
   "cell_type": "code",
   "execution_count": 1,
   "id": "64682180-22d1-4218-b299-13d9cb5e41e6",
   "metadata": {},
   "outputs": [],
   "source": [
    "import numpy as np\n",
    "import cv2\n",
    "\n",
    "cap = cv2.VideoCapture(0)\n",
    "\n",
    "while True:\n",
    "    ret, frame = cap.read()\n",
    "    width = int(cap.get(3))\n",
    "    height = int(cap.get(4))\n",
    "    \n",
    "    image = np.zeros(frame.shape, np.uint8)\n",
    "    smaller_frame = cv2.resize(frame, (0,0), fx = 0.5, fy=0.5)\n",
    "    image[:height//2, :width//2] = cv2.rotate(smaller_frame,cv2.ROTATE_180)\n",
    "    image[height//2:,: width//2] = smaller_frame\n",
    "    image[:height//2, width//2:] = cv2.rotate(smaller_frame,cv2.ROTATE_180)\n",
    "    image[height//2:, width//2:] = smaller_frame\n",
    "\n",
    "\n",
    "    cv2.imshow('frame', image)\n",
    "    if cv2.waitKey(1) == ord('s'):\n",
    "        break\n",
    "cap.release()\n",
    "cv2.destroyAllWindows()"
   ]
  },
  {
   "cell_type": "code",
   "execution_count": null,
   "id": "07386113-8f4f-4586-a6aa-6dba4fa344fa",
   "metadata": {},
   "outputs": [],
   "source": []
  }
 ],
 "metadata": {
  "kernelspec": {
   "display_name": "Python 3 (ipykernel)",
   "language": "python",
   "name": "python3"
  },
  "language_info": {
   "codemirror_mode": {
    "name": "ipython",
    "version": 3
   },
   "file_extension": ".py",
   "mimetype": "text/x-python",
   "name": "python",
   "nbconvert_exporter": "python",
   "pygments_lexer": "ipython3",
   "version": "3.10.9"
  }
 },
 "nbformat": 4,
 "nbformat_minor": 5
}
